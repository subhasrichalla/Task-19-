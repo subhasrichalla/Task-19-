{
 "cells": [
  {
   "cell_type": "markdown",
   "id": "97df8b16",
   "metadata": {},
   "source": [
    "### Create a Python script that simulates a simple login system. The script should prompt the user to enter their username and password. If the entered username and password match the predefined credentials, the script should log a successful login event to a log file. If the credentials do not match, it should log a failed login attempt to the log file. Example Output Assuming the predefined credentials are username: \"user123\" and password: \"pass123\", here's an example output of the script:"
   ]
  },
  {
   "cell_type": "code",
   "execution_count": 1,
   "id": "a5cb7c3a",
   "metadata": {},
   "outputs": [
    {
     "name": "stdout",
     "output_type": "stream",
     "text": [
      "enter your username::subhasri123\n",
      "enter your password::challa123\n",
      "login successful for subhasri123 (10/02/2023, 08:50:51)\n"
     ]
    }
   ],
   "source": [
    "import time\n",
    "\n",
    "username = \"subhasri123\"\n",
    "password = \"challa123\"\n",
    "\n",
    "user_name = input(\"enter your username::\")\n",
    "pass_word = input(\"enter your password::\")\n",
    "\n",
    "now = time.strftime(\"%m/%d/%Y, %H:%M:%S\")  \n",
    "\n",
    "if (username == user_name) and (password == pass_word):\n",
    "    print(f'login successful for subhasri123 ({now})')\n",
    "    \n",
    "else:\n",
    "    print(f'login failed for subhasri123 ({now})')"
   ]
  },
  {
   "cell_type": "markdown",
   "id": "8c8a0b74",
   "metadata": {},
   "source": [
    "### Create any 5 of following modules\n",
    "a. Restaurant\n",
    "\n",
    "b. IPL\n",
    "\n",
    "c. Mathematics\n",
    "\n",
    "d. Data Science\n",
    "\n",
    "e. India\n",
    "\n",
    "f. Shopping mall\n",
    "\n",
    "g. Amazon_price\n",
    "\n",
    "Do some research while creating them"
   ]
  },
  {
   "cell_type": "code",
   "execution_count": 6,
   "id": "1ba68032",
   "metadata": {},
   "outputs": [],
   "source": [
    "import mathematics"
   ]
  },
  {
   "cell_type": "code",
   "execution_count": 8,
   "id": "24a2bc2e",
   "metadata": {},
   "outputs": [
    {
     "name": "stdout",
     "output_type": "stream",
     "text": [
      "john\n",
      "Hardy\n",
      "Newton\n"
     ]
    }
   ],
   "source": [
    "mathematics.authors()"
   ]
  },
  {
   "cell_type": "code",
   "execution_count": 9,
   "id": "4a666794",
   "metadata": {},
   "outputs": [
    {
     "name": "stdout",
     "output_type": "stream",
     "text": [
      "10 20\n"
     ]
    }
   ],
   "source": [
    "mathematics.operations()"
   ]
  },
  {
   "cell_type": "code",
   "execution_count": 10,
   "id": "e54e3c81",
   "metadata": {},
   "outputs": [
    {
     "name": "stdout",
     "output_type": "stream",
     "text": [
      "+\n",
      "-\n",
      "*\n",
      "/\n"
     ]
    }
   ],
   "source": [
    "mathematics.symbols()"
   ]
  },
  {
   "cell_type": "code",
   "execution_count": 11,
   "id": "ec7c7eb1",
   "metadata": {},
   "outputs": [
    {
     "name": "stdout",
     "output_type": "stream",
     "text": [
      "applied mathematics\n",
      "pure mathematics\n"
     ]
    }
   ],
   "source": [
    "mathematics.types()"
   ]
  },
  {
   "cell_type": "markdown",
   "id": "13410316",
   "metadata": {},
   "source": [
    "### Amazon"
   ]
  },
  {
   "cell_type": "code",
   "execution_count": 6,
   "id": "bf627ecc",
   "metadata": {},
   "outputs": [],
   "source": [
    "import Amazon"
   ]
  },
  {
   "cell_type": "code",
   "execution_count": 7,
   "id": "0bd210f3",
   "metadata": {},
   "outputs": [
    {
     "name": "stdout",
     "output_type": "stream",
     "text": [
      "dressberry: 800\n",
      "max: 700\n",
      "westside: 900\n"
     ]
    }
   ],
   "source": [
    "Amazon.footwear()"
   ]
  },
  {
   "cell_type": "code",
   "execution_count": 8,
   "id": "cf098968",
   "metadata": {},
   "outputs": [
    {
     "name": "stdout",
     "output_type": "stream",
     "text": [
      "lala : 600\n",
      "avasa : 780\n",
      "naira: 500\n"
     ]
    }
   ],
   "source": [
    "Amazon.kurtis()"
   ]
  },
  {
   "cell_type": "code",
   "execution_count": 10,
   "id": "f03891c4",
   "metadata": {},
   "outputs": [
    {
     "name": "stdout",
     "output_type": "stream",
     "text": [
      "samsung : 20000\n",
      "redme : 15000\n",
      "oneplus : 19000\n"
     ]
    }
   ],
   "source": [
    "Amazon.phones()"
   ]
  },
  {
   "cell_type": "code",
   "execution_count": 11,
   "id": "3f65c166",
   "metadata": {},
   "outputs": [
    {
     "name": "stdout",
     "output_type": "stream",
     "text": [
      "arrow : 2000\n",
      "levis : 1900\n",
      "u turn: 500\n"
     ]
    }
   ],
   "source": [
    "Amazon.shirts()"
   ]
  },
  {
   "cell_type": "markdown",
   "id": "a79c55d6",
   "metadata": {},
   "source": [
    "### IPL"
   ]
  },
  {
   "cell_type": "code",
   "execution_count": 17,
   "id": "82ba9497",
   "metadata": {},
   "outputs": [],
   "source": [
    "import IPL as i"
   ]
  },
  {
   "cell_type": "code",
   "execution_count": 18,
   "id": "fd75912d",
   "metadata": {},
   "outputs": [
    {
     "name": "stdout",
     "output_type": "stream",
     "text": [
      "hyderabad\n",
      "bangalore\n",
      "Delhi\n"
     ]
    }
   ],
   "source": [
    "IPL.citys()"
   ]
  },
  {
   "cell_type": "code",
   "execution_count": 19,
   "id": "df070b01",
   "metadata": {},
   "outputs": [
    {
     "name": "stdout",
     "output_type": "stream",
     "text": [
      "2021\n",
      "2022\n",
      "2023\n"
     ]
    }
   ],
   "source": [
    "IPL.seasons()"
   ]
  },
  {
   "cell_type": "code",
   "execution_count": 20,
   "id": "176ea2be",
   "metadata": {},
   "outputs": [
    {
     "name": "stdout",
     "output_type": "stream",
     "text": [
      "kolkata knight riders\n",
      "chennai super kings\n",
      "mumbai indians\n",
      "rajasthan royals\n"
     ]
    }
   ],
   "source": [
    "IPL.teams()"
   ]
  },
  {
   "cell_type": "code",
   "execution_count": 21,
   "id": "ad5cd87b",
   "metadata": {},
   "outputs": [
    {
     "name": "stdout",
     "output_type": "stream",
     "text": [
      "fielding\n",
      "batting\n"
     ]
    }
   ],
   "source": [
    "IPL.toss()"
   ]
  },
  {
   "cell_type": "markdown",
   "id": "9e0c963f",
   "metadata": {},
   "source": [
    "### India"
   ]
  },
  {
   "cell_type": "code",
   "execution_count": 4,
   "id": "d80ac013",
   "metadata": {},
   "outputs": [],
   "source": [
    "import India"
   ]
  },
  {
   "cell_type": "code",
   "execution_count": 5,
   "id": "4e641050",
   "metadata": {},
   "outputs": [
    {
     "name": "stdout",
     "output_type": "stream",
     "text": [
      "hyderabad\n",
      "chennai\n",
      "bangalore\n",
      "Goa\n"
     ]
    }
   ],
   "source": [
    "India.cities()"
   ]
  },
  {
   "cell_type": "code",
   "execution_count": 6,
   "id": "cdfe4ab8",
   "metadata": {},
   "outputs": [
    {
     "name": "stdout",
     "output_type": "stream",
     "text": [
      "diwali\n",
      "dussera\n",
      "sankranti\n",
      "christmas\n"
     ]
    }
   ],
   "source": [
    "India.festivals()"
   ]
  },
  {
   "cell_type": "code",
   "execution_count": 7,
   "id": "36626676",
   "metadata": {},
   "outputs": [
    {
     "name": "stdout",
     "output_type": "stream",
     "text": [
      "telugu\n",
      "hindi\n",
      "urdu\n",
      "bengali\n"
     ]
    }
   ],
   "source": [
    "India.languages()"
   ]
  },
  {
   "cell_type": "markdown",
   "id": "4f421ced",
   "metadata": {},
   "source": []
  },
  {
   "cell_type": "code",
   "execution_count": null,
   "id": "ab9a55b7",
   "metadata": {},
   "outputs": [],
   "source": []
  }
 ],
 "metadata": {
  "kernelspec": {
   "display_name": "Python 3 (ipykernel)",
   "language": "python",
   "name": "python3"
  },
  "language_info": {
   "codemirror_mode": {
    "name": "ipython",
    "version": 3
   },
   "file_extension": ".py",
   "mimetype": "text/x-python",
   "name": "python",
   "nbconvert_exporter": "python",
   "pygments_lexer": "ipython3",
   "version": "3.11.4"
  }
 },
 "nbformat": 4,
 "nbformat_minor": 5
}
